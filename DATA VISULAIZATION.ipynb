{
 "cells": [
  {
   "cell_type": "markdown",
   "id": "4292d3f3-9fd2-4706-8603-9851260e012d",
   "metadata": {},
   "source": [
    "DATA VISULAIZATION-\n",
    "\n",
    "import matplotlib.pyplot as plt (2D plotting)\n",
    "\n",
    "import seaborn as sb(3D,4D plotiing)"
   ]
  },
  {
   "cell_type": "code",
   "execution_count": null,
   "id": "61ceae15-2181-4b44-814c-4cd140753d1a",
   "metadata": {},
   "outputs": [],
   "source": [
    "Types of plotting:-\n",
    "\n",
    "Line chart                       .plot()                             [independent var x axis,dependent on y axis]\n",
    "\n",
    "Bar chart                        .bar()                              [categorical var ex-to plot freq of male,female,child][Y axis=frq and x axis=name ex-male,female,child][represented by bars]\n",
    "\n",
    "Histogram chart                  .hist()                              [similar to bar graph but shows frequency of numerical data][represented by bills]\n",
    "\n",
    "Pie chart                        .pie()                               [to show part wise distribution of a quantity categorical column data]\n",
    "\n",
    "Scatter CHart                   .scatter()                             [to determine density or distribution of data in scattered form]\n",
    "\n",
    "Subplot chart                   .subplot()                              [to make multiple charts like first 3 or 4 in sub parts of an area]"
   ]
  }
 ],
 "metadata": {
  "kernelspec": {
   "display_name": "Python 3 (ipykernel)",
   "language": "python",
   "name": "python3"
  },
  "language_info": {
   "codemirror_mode": {
    "name": "ipython",
    "version": 3
   },
   "file_extension": ".py",
   "mimetype": "text/x-python",
   "name": "python",
   "nbconvert_exporter": "python",
   "pygments_lexer": "ipython3",
   "version": "3.12.4"
  }
 },
 "nbformat": 4,
 "nbformat_minor": 5
}
