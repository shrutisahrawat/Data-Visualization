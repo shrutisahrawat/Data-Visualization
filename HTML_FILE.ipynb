{
 "cells": [
  {
   "cell_type": "markdown",
   "id": "0c48037b-aac2-4554-a162-35504a613f2d",
   "metadata": {},
   "source": [
    "# HOW TO READ HTML FILE USING PANDAS AND ANALYSIS"
   ]
  },
  {
   "cell_type": "code",
   "execution_count": 2,
   "id": "966f6bf8-fe36-4c45-9aaa-f71b4d90515a",
   "metadata": {},
   "outputs": [],
   "source": [
    "import pandas as pd\n",
    "import numpy as np\n",
    "import matplotlib.pyplot as plt"
   ]
  },
  {
   "cell_type": "code",
   "execution_count": 24,
   "id": "82e53dbc-fce9-41d4-a3de-851909831890",
   "metadata": {},
   "outputs": [],
   "source": [
    "data=pd.read_html('C:/Users/shruti sahrawat/Desktop/DA Project/dataset/traintime.html',header=2)"
   ]
  },
  {
   "cell_type": "code",
   "execution_count": 20,
   "id": "929cd973-5f07-4f02-8583-7c0854edce49",
   "metadata": {},
   "outputs": [
    {
     "data": {
      "text/plain": [
       "list"
      ]
     },
     "execution_count": 20,
     "metadata": {},
     "output_type": "execute_result"
    }
   ],
   "source": [
    "type(data)\n"
   ]
  },
  {
   "cell_type": "code",
   "execution_count": 26,
   "id": "c9e898da-01c0-413a-beb4-865d097fd613",
   "metadata": {},
   "outputs": [
    {
     "data": {
      "text/plain": [
       "[    Name of Train      Place Destination Departure Arrival       Fare  \\\n",
       " 0    Rajdhani Exp     Bombay       Delhi    2:30am  8:45am  1989.00rs   \n",
       " 1    Sataabdi Exp   Bangluru       Delhi    7:30am  6:45pm   789.00rs   \n",
       " 2  SaptKranti Exp  Gorakhpur       Delhi    5:30am  9:45pm   589.00rs   \n",
       " 3    Rajdhani Exp    Lucknow       Delhi    5:30pm  6:45am  1189.00rs   \n",
       " \n",
       "    Unnamed: 6  Unnamed: 7  Unnamed: 8  \n",
       " 0         NaN         NaN         NaN  \n",
       " 1         NaN         NaN         NaN  \n",
       " 2         NaN         NaN         NaN  \n",
       " 3         NaN         NaN         NaN  ]"
      ]
     },
     "execution_count": 26,
     "metadata": {},
     "output_type": "execute_result"
    }
   ],
   "source": [
    "data"
   ]
  },
  {
   "cell_type": "code",
   "execution_count": 28,
   "id": "4d1a9724-c766-431e-9ee5-2b3a545fe92b",
   "metadata": {},
   "outputs": [],
   "source": [
    "#list doesnot supports panadas methods\n",
    "# to use df"
   ]
  },
  {
   "cell_type": "code",
   "execution_count": 34,
   "id": "a9d2a3d3-1bb3-4def-aaab-0f7c3582bedf",
   "metadata": {},
   "outputs": [],
   "source": [
    "data=data[0]"
   ]
  },
  {
   "cell_type": "code",
   "execution_count": 36,
   "id": "6642c5e3-917b-44bb-ac80-0d334f6937c4",
   "metadata": {},
   "outputs": [
    {
     "data": {
      "text/plain": [
       "pandas.core.frame.DataFrame"
      ]
     },
     "execution_count": 36,
     "metadata": {},
     "output_type": "execute_result"
    }
   ],
   "source": [
    "type(data)"
   ]
  },
  {
   "cell_type": "code",
   "execution_count": 38,
   "id": "6a401450-939e-46f5-8bec-95bccc7fa20e",
   "metadata": {},
   "outputs": [],
   "source": [
    "data=data.dropna(axis='columns')"
   ]
  },
  {
   "cell_type": "code",
   "execution_count": 40,
   "id": "bf3b13b7-c7fb-4e20-93b7-b50b86e9b998",
   "metadata": {},
   "outputs": [
    {
     "data": {
      "text/html": [
       "<div>\n",
       "<style scoped>\n",
       "    .dataframe tbody tr th:only-of-type {\n",
       "        vertical-align: middle;\n",
       "    }\n",
       "\n",
       "    .dataframe tbody tr th {\n",
       "        vertical-align: top;\n",
       "    }\n",
       "\n",
       "    .dataframe thead th {\n",
       "        text-align: right;\n",
       "    }\n",
       "</style>\n",
       "<table border=\"1\" class=\"dataframe\">\n",
       "  <thead>\n",
       "    <tr style=\"text-align: right;\">\n",
       "      <th></th>\n",
       "      <th>Name of Train</th>\n",
       "      <th>Place</th>\n",
       "      <th>Destination</th>\n",
       "      <th>Departure</th>\n",
       "      <th>Arrival</th>\n",
       "      <th>Fare</th>\n",
       "    </tr>\n",
       "  </thead>\n",
       "  <tbody>\n",
       "    <tr>\n",
       "      <th>0</th>\n",
       "      <td>Rajdhani Exp</td>\n",
       "      <td>Bombay</td>\n",
       "      <td>Delhi</td>\n",
       "      <td>2:30am</td>\n",
       "      <td>8:45am</td>\n",
       "      <td>1989.00rs</td>\n",
       "    </tr>\n",
       "    <tr>\n",
       "      <th>1</th>\n",
       "      <td>Sataabdi Exp</td>\n",
       "      <td>Bangluru</td>\n",
       "      <td>Delhi</td>\n",
       "      <td>7:30am</td>\n",
       "      <td>6:45pm</td>\n",
       "      <td>789.00rs</td>\n",
       "    </tr>\n",
       "    <tr>\n",
       "      <th>2</th>\n",
       "      <td>SaptKranti Exp</td>\n",
       "      <td>Gorakhpur</td>\n",
       "      <td>Delhi</td>\n",
       "      <td>5:30am</td>\n",
       "      <td>9:45pm</td>\n",
       "      <td>589.00rs</td>\n",
       "    </tr>\n",
       "    <tr>\n",
       "      <th>3</th>\n",
       "      <td>Rajdhani Exp</td>\n",
       "      <td>Lucknow</td>\n",
       "      <td>Delhi</td>\n",
       "      <td>5:30pm</td>\n",
       "      <td>6:45am</td>\n",
       "      <td>1189.00rs</td>\n",
       "    </tr>\n",
       "  </tbody>\n",
       "</table>\n",
       "</div>"
      ],
      "text/plain": [
       "    Name of Train      Place Destination Departure Arrival       Fare\n",
       "0    Rajdhani Exp     Bombay       Delhi    2:30am  8:45am  1989.00rs\n",
       "1    Sataabdi Exp   Bangluru       Delhi    7:30am  6:45pm   789.00rs\n",
       "2  SaptKranti Exp  Gorakhpur       Delhi    5:30am  9:45pm   589.00rs\n",
       "3    Rajdhani Exp    Lucknow       Delhi    5:30pm  6:45am  1189.00rs"
      ]
     },
     "execution_count": 40,
     "metadata": {},
     "output_type": "execute_result"
    }
   ],
   "source": [
    "data"
   ]
  },
  {
   "cell_type": "code",
   "execution_count": 44,
   "id": "2458f6ec-7fe6-45df-93f1-a075d4415d3d",
   "metadata": {},
   "outputs": [],
   "source": [
    "data.to_excel('C:/Users/shruti sahrawat/Desktop/DA Project/dataset/new_table.xlsx',index=False)"
   ]
  },
  {
   "cell_type": "code",
   "execution_count": null,
   "id": "68727cb0-c957-4492-919d-d33c1f4ee301",
   "metadata": {},
   "outputs": [],
   "source": []
  }
 ],
 "metadata": {
  "kernelspec": {
   "display_name": "Python 3 (ipykernel)",
   "language": "python",
   "name": "python3"
  },
  "language_info": {
   "codemirror_mode": {
    "name": "ipython",
    "version": 3
   },
   "file_extension": ".py",
   "mimetype": "text/x-python",
   "name": "python",
   "nbconvert_exporter": "python",
   "pygments_lexer": "ipython3",
   "version": "3.12.4"
  }
 },
 "nbformat": 4,
 "nbformat_minor": 5
}
